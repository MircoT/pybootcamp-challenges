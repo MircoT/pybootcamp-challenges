{
 "cells": [
  {
   "cell_type": "markdown",
   "metadata": {},
   "source": [
    "# Soluzione 'The Bot Challenge' - Davide Pruscini (prushh)"
   ]
  },
  {
   "cell_type": "markdown",
   "metadata": {},
   "source": [
    "## Engine\n",
    "Al fine di risolvere i vari tasks, è stato necessario studiare il comportamento dell'engine e trovare:\n",
    " * i comandi a disposizione\n",
    " * come visualizzare/completare le quests\n",
    " * come chiudere la challenge\n",
    "\n",
    "Per avviare il bot, messo a disposizione grazie ai tre file eseguibili (rispettivamente per Linux, MacOS o Windows), bisogna memorizzare il **TOKEN** all'interno di un file denominato `token.txt` e per interagire con esso basterà digitare, nella barra di ricerca di Telegram, il `<bot_username>` scelto in fase di registrazione. Per maggiori informazioni: \n",
    "[Come creare un bot](https://core.telegram.org/bots)\n",
    "\n",
    "In fase di presentazione della challenge sono stati fatti alcuni spoiler per quanto riguarda i comandi disponibili:\n",
    " * **/status** - Mostra il numero di quests completate\n",
    " * **/quest0** - Permette di rispondere alla prima quest\n",
    " * **/quest1** - Permette di rispondere alla seconda quest\n",
    " * **/quest2** - Permette di rispondere alla terza quest\n",
    " \n",
    "Oltre a questi non sono stati trovati altri comandi utilizzabili, si è passati quindi alla ricerca della parola chiave legata ad *Harry Potter*. Dopo innumerevoli tentativi collegati più che mai a *Piton*, ho deciso di cedere e guardare all'interno dell'eseguibile sperando di trovare qualcosa.\n",
    "\n",
    "Fortunatamente è stato così, digitando la frase `giuro solennemente di non avere buone intenzioni` sono comparsi i tre bottoni che permettono la lettura delle quests, una dopo l'altra, soltanto se la precedente è stata completata. Si parlerà in seguito della loro risoluzione.\n",
    "\n",
    "Non rimaneva che chiudere la challenge, per farlo è stato semplice, avendo visto recentemente la famosa saga è bastata una ricerca online: per mascherare la *Mappa del Malandrino* è sufficiente dire `fatto il misfatto`. Ovviamente ciò è possibile soltanto se tutte le quests sono state completate con successo."
   ]
  },
  {
   "cell_type": "markdown",
   "metadata": {},
   "source": [
    "## Sviluppo Bot\n",
    "Come da direttive è stato usato il pacchetto [python-telegram-bot](https://github.com/python-telegram-bot/python-telegram-bot), all'interno del repository di GitHub è presente una cartella contenente degli [esempi](https://github.com/python-telegram-bot/python-telegram-bot/tree/master/examples) ed è proprio da lì che sono partito.\n",
    "### Main"
   ]
  },
  {
   "cell_type": "code",
   "execution_count": null,
   "metadata": {},
   "outputs": [],
   "source": [
    "def main():\n",
    "    # Create the EventHandler and pass it your bot's token\n",
    "    updater = Updater(TOKEN, use_context=True)\n",
    "    dp = updater.dispatcher\n",
    "\n",
    "    # Display authorization message\n",
    "    bot_username = updater.bot.get_me()['username']\n",
    "    print(f\"{get_now()} Authorized on account {bot_username}\")\n",
    "\n",
    "    # Adding all the handler for the commands\n",
    "    dp.add_handler(CommandHandler('status', status))\n",
    "    dp.add_handler(CommandHandler('quest0', quest0))\n",
    "    dp.add_handler(CommandHandler('quest1', quest1))\n",
    "    dp.add_handler(CommandHandler('quest2', quest2))\n",
    "    dp.add_handler(CommandHandler('quest3', quest3))\n",
    "    dp.add_handler(CommandHandler('quest4', quest4))\n",
    "    dp.add_handler(CommandHandler('quest5', quest5))\n",
    "    dp.add_handler(MessageHandler(Filters.command, unknown))\n",
    "\n",
    "    cmd_unlocks = ConversationHandler(\n",
    "        entry_points=[MessageHandler(Filters.text, unlocks)],\n",
    "\n",
    "        states={\n",
    "            1: [MessageHandler(\n",
    "                    Filters.regex('^(Quest 0|Quest 1|Quest 2|Quest 3|Quest 4|Quest 5)$'),\n",
    "                    quest_choice),\n",
    "                MessageHandler(Filters.text, quest_choice)],\n",
    "        },\n",
    "\n",
    "        fallbacks=[CommandHandler('cancel', cancel)]\n",
    "    )\n",
    "    dp.add_handler(cmd_unlocks)\n",
    "\n",
    "    # Log all errors\n",
    "    dp.add_error_handler(error)\n",
    "\n",
    "    # Start the Bot\n",
    "    updater.start_polling()\n",
    "\n",
    "    # Run the bot until you press Ctrl-C or the process\n",
    "    # receives SIGINT, SIGTERM or SIGABRT.\n",
    "    updater.idle()\n",
    "\n",
    "    return 0"
   ]
  },
  {
   "cell_type": "markdown",
   "metadata": {},
   "source": [
    "All'interno della funzione `main()` si va ad effettuare la creazione vera e propria del bot, si aggiungono gli handler per i comandi conosciuti e sconosciuti, viene inoltre utilizzato un `ConversationHandler` per interagire con ogni singolo utente.\n",
    "\n",
    "Si procede all'avvio con l'istruzione seguente:\n",
    "```python\n",
    "updater.start_polling()\n",
    "```\n",
    "\n",
    "### Unlocks"
   ]
  },
  {
   "cell_type": "code",
   "execution_count": null,
   "metadata": {},
   "outputs": [],
   "source": [
    "def unlocks(update, context):\n",
    "    '''\n",
    "    Unlock missions with the correct passphrase\n",
    "    '''\n",
    "    msg = update.message.text.lower()\n",
    "    reply = \"Non ho niente da dire...\"\n",
    "\n",
    "    if msg == passphrase:\n",
    "        if 'quests' not in context.user_data.keys():\n",
    "            context.user_data['quests'] = create_qts()\n",
    "        reply_keyboard = [\n",
    "            ['Quest 0', 'Quest 1', 'Quest 2'],\n",
    "            ['Quest 3', 'Quest 4', 'Quest 5']]\n",
    "        markup = ReplyKeyboardMarkup(reply_keyboard, resize_keyboard=True)\n",
    "        update.message.reply_text(reply, reply_markup=markup)\n",
    "        return 1\n",
    "    elif msg == endphrase:\n",
    "        if 'quests' in context.user_data.keys():\n",
    "            quests = context.user_data['quests']\n",
    "            if get_solved(quests) == NUM_QTS:\n",
    "                reply = \"Congratulazioni! Hai finito tutte le missioni...\"\n",
    "        else:\n",
    "            reply = \"Non hai completato tutte le missioni. Che peccato...\"\n",
    "\n",
    "    update.message.reply_text(reply)"
   ]
  },
  {
   "cell_type": "markdown",
   "metadata": {},
   "source": [
    "Questo funzione rappresenta l'*entry_points* del `ConversationHandler`, viene richiamata ogni volta che s'invia un messaggio di testo grazie alla specifica `Filters.text`. Si confronta il messaggio inviato con la passphrase, se coincidono ed è la prima volta che è stata inserita si provvede alla creazione di un dizionario di dizionari all'interno dell'apposito spazio per l'utente:\n",
    "\n",
    "```python\n",
    "context.user_data['quests'] = create_qts()\n",
    "```\n",
    "\n",
    "Quest'ultimo conterrà tutte le quests, ogni *key* rappresenta una missione e sarà così composta:\n",
    "\n",
    "```python\n",
    "num_quest: {\n",
    "    'text': quesito,\n",
    "    'solution': soluzione,\n",
    "    'solved': bool,\n",
    "    'attemp': int\n",
    "}\n",
    "```\n",
    "\n",
    "Viene inoltre creata e resa visibile la `ReplyKeyboardMarkup` contenente i bottoni, si ritorna 1 così da cambiare lo stato del `ConversationHandler`. Se invece è stata inserita l'endphrase si controlla che tutte le quests siano state completate.\n",
    "\n",
    "In ogni caso viene inviato un messaggio di risposta.\n",
    "\n",
    "### Quest choice"
   ]
  },
  {
   "cell_type": "code",
   "execution_count": null,
   "metadata": {},
   "outputs": [],
   "source": [
    "def quest_choice(update, context):\n",
    "    '''\n",
    "    Bot core to interact with quests.\n",
    "    '''\n",
    "    msg = update.message.text.lower()\n",
    "    quests = context.user_data['quests']\n",
    "\n",
    "    if msg == endphrase:\n",
    "        if get_solved(quests) == NUM_QTS:\n",
    "            reply = \"Congratulazioni! Hai finito tutte le missioni...\"\n",
    "            reply_markup = ReplyKeyboardRemove()\n",
    "            update.message.reply_text(reply, reply_markup=reply_markup)\n",
    "            return ConversationHandler.END\n",
    "        reply = \"Non hai completato tutte le missioni. Che peccato...\"\n",
    "    elif msg == 'quest 0':\n",
    "        reply = check_choice(quests, 0)\n",
    "    elif msg == 'quest 1':\n",
    "        reply = check_choice(quests, 1)\n",
    "    elif msg == 'quest 2':\n",
    "        reply = check_choice(quests, 2)\n",
    "    elif msg == 'quest 3':\n",
    "        reply = check_choice(quests, 3)\n",
    "    elif msg == 'quest 4':\n",
    "        reply = check_choice(quests, 4)\n",
    "    elif msg == 'quest 5':\n",
    "        reply = check_choice(quests, 5)\n",
    "    else:\n",
    "        reply = \"Non ho niente da dire...\"\n",
    "\n",
    "    update.message.reply_text(reply)"
   ]
  },
  {
   "cell_type": "markdown",
   "metadata": {},
   "source": [
    "Ora siamo passati allo stato 1 del `ConversationHandler`, rappresentato da questa funzione. Si controlla il messaggio che l'utente ha inviato cercando di trovare un riscontro o con l'endphrase (dove in questo caso viene rimossa la `ReplyKeyboardMarkup` e conclusa la conversazione) o con una delle quests presenti.\n",
    "\n",
    "Se la scelta corrisponde ad una quest si procede con la seguente funzione che restituisce un messaggio a seconda dei casi.\n",
    "\n",
    "Verifica inoltre se tutte le quests precedenti sono state completate o meno."
   ]
  },
  {
   "cell_type": "code",
   "execution_count": null,
   "metadata": {},
   "outputs": [],
   "source": [
    "def check_choice(qts: dict, n: int) -> str:\n",
    "    '''\n",
    "    Check if the question can be answered.\n",
    "    '''\n",
    "    if qts[n]['solved']:\n",
    "        return \"Hai già completato questa quest...\"\n",
    "\n",
    "    for idx in range(0, n):\n",
    "        if not qts[idx]['solved']:\n",
    "            return \"Devi completare la quest precedente...\"\n",
    "    return qts[n]['text']"
   ]
  },
  {
   "cell_type": "markdown",
   "metadata": {},
   "source": [
    "### Quest-i"
   ]
  },
  {
   "cell_type": "code",
   "execution_count": null,
   "metadata": {},
   "outputs": [],
   "source": [
    "def quest0(update, context):\n",
    "    '''Command for quest0.'''\n",
    "    reply = check_qts(context, 0)\n",
    "    update.message.reply_text(reply)"
   ]
  },
  {
   "cell_type": "markdown",
   "metadata": {},
   "source": [
    "Per ogni quest viene richiamata la stessa funzione, si controlla la correttezza della risposta inviando all'utente un apposito messaggio.\n",
    "\n",
    "Si aggiorna inoltre il numero di tentativi effettuati per una determinata quest."
   ]
  },
  {
   "cell_type": "code",
   "execution_count": null,
   "metadata": {},
   "outputs": [],
   "source": [
    "def check_qts(context, n: int) -> str:\n",
    "    '''\n",
    "    Check if the answer is correct.\n",
    "    '''\n",
    "    reply = \"Risposta non corretta...\"\n",
    "    if 'quests' not in context.user_data.keys():\n",
    "        return reply\n",
    "\n",
    "    qts = context.user_data['quests'][n]\n",
    "    if qts['solved']:\n",
    "        return reply\n",
    "\n",
    "    args = \" \".join(context.args)\n",
    "    if _cast_arg(args) == qts['solution']:\n",
    "        context.user_data['quests'][n]['solved'] = True\n",
    "        return \"Risposta corretta! Quest completata!\"\n",
    "\n",
    "    context.user_data['quests'][n]['attemp'] += 1\n",
    "    reply += f\" Tentativi effettuati: {qts['attemp']}\"\n",
    "    return reply"
   ]
  },
  {
   "cell_type": "markdown",
   "metadata": {},
   "source": [
    "### Status"
   ]
  },
  {
   "cell_type": "code",
   "execution_count": null,
   "metadata": {},
   "outputs": [],
   "source": [
    "def status(update, context):\n",
    "    '''Show number of completed quests.'''\n",
    "    if 'quests' in context.user_data.keys():\n",
    "        quests = context.user_data['quests']\n",
    "        solved_qts = get_solved(quests)\n",
    "        reply = f\"Hai completato {solved_qts} quest su {NUM_QTS}\"\n",
    "    else:\n",
    "        reply = f\"Hai completato 0 quest su {NUM_QTS}\"\n",
    "    update.message.reply_text(reply)"
   ]
  },
  {
   "cell_type": "markdown",
   "metadata": {},
   "source": [
    "Mette a conoscenza l'utente su quante quests ha completato e quante ce ne sono complessivamente.\n",
    "\n",
    "### Unknown"
   ]
  },
  {
   "cell_type": "code",
   "execution_count": null,
   "metadata": {},
   "outputs": [],
   "source": [
    "def unknown(update, context):\n",
    "    '''Reply to all unrecognized commands.'''\n",
    "    update.message.reply_text(\"Comando non valido...\")"
   ]
  },
  {
   "cell_type": "markdown",
   "metadata": {},
   "source": [
    "Ogni qual volta l'utente invii un comando sconosciuto si risponde semplicemente come sopra.\n",
    "\n",
    "## Risoluzione Quests\n",
    "Di seguito le funzioni create per risolvere le quest, *N* rappresenta un numero intero random preso in un determinato range, *DATE* rappresenta una data nel formato `%Y/%m/%d`.\n",
    "### 0. Calcola la somma dei multipli di 3 e 5 fino a *N*"
   ]
  },
  {
   "cell_type": "code",
   "execution_count": null,
   "metadata": {},
   "outputs": [],
   "source": [
    "def _quest0(last: int) -> int:\n",
    "    sum_ = 0\n",
    "    for elm in range(last):\n",
    "        if elm % 3 == 0 or elm % 5 == 0:\n",
    "            sum_ += elm\n",
    "\n",
    "    return sum_"
   ]
  },
  {
   "cell_type": "markdown",
   "metadata": {},
   "source": [
    "### 1. Calcola la somma dei numeri dispari della serie di fibonacci fino all'*N*-esimo"
   ]
  },
  {
   "cell_type": "code",
   "execution_count": null,
   "metadata": {},
   "outputs": [],
   "source": [
    "def _quest1(n: int) -> int:\n",
    "    n += 2\n",
    "    sum_ = -1\n",
    "\n",
    "    a, b = 0, 1\n",
    "    while n > 0:\n",
    "        if a % 2 != 0:\n",
    "            sum_ += a\n",
    "        a, b = b, a + b\n",
    "        n -= 1\n",
    "\n",
    "    return sum_"
   ]
  },
  {
   "cell_type": "markdown",
   "metadata": {},
   "source": [
    "### 2. Decodifica la stringa: *SGVsbG8sIFB56K6t57uD6JClIQ==%!(EXTRA int=21)*"
   ]
  },
  {
   "cell_type": "code",
   "execution_count": null,
   "metadata": {},
   "outputs": [],
   "source": [
    "def _quest2(b64: str) -> str:\n",
    "    return b64decode(b64).decode('utf-8')"
   ]
  },
  {
   "cell_type": "markdown",
   "metadata": {},
   "source": [
    "### 3. Trova la cifra decimale numero *N* del π"
   ]
  },
  {
   "cell_type": "code",
   "execution_count": null,
   "metadata": {},
   "outputs": [],
   "source": [
    "def _quest3(nth: int) -> int:\n",
    "    idx = nth + 1\n",
    "    tmp = \"%.48f\" % pi\n",
    "    return int(tmp[idx])"
   ]
  },
  {
   "cell_type": "markdown",
   "metadata": {},
   "source": [
    "### 4. Trova una differente rappresentazione: *DATE*"
   ]
  },
  {
   "cell_type": "code",
   "execution_count": null,
   "metadata": {},
   "outputs": [],
   "source": [
    "def _quest4(date: str) -> int:\n",
    "    return int(datetime.strptime(date, \"%Y/%m/%d\").timestamp())"
   ]
  },
  {
   "cell_type": "markdown",
   "metadata": {},
   "source": [
    "### 5. Conosci qualche alfabeto? Prova a fare lo spelling: *PyBootCamp*"
   ]
  },
  {
   "cell_type": "code",
   "execution_count": null,
   "metadata": {},
   "outputs": [],
   "source": [
    "def _quest5(text: str) -> str:\n",
    "    return nato(text)"
   ]
  }
 ],
 "metadata": {
  "kernelspec": {
   "display_name": "Python 3",
   "language": "python",
   "name": "python3"
  },
  "language_info": {
   "codemirror_mode": {
    "name": "ipython",
    "version": 3
   },
   "file_extension": ".py",
   "mimetype": "text/x-python",
   "name": "python",
   "nbconvert_exporter": "python",
   "pygments_lexer": "ipython3",
   "version": "3.8.1"
  }
 },
 "nbformat": 4,
 "nbformat_minor": 4
}
