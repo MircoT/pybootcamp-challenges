{
 "nbformat": 4,
 "nbformat_minor": 2,
 "metadata": {
  "language_info": {
   "name": "python",
   "codemirror_mode": {
    "name": "ipython",
    "version": 3
   }
  },
  "orig_nbformat": 2,
  "file_extension": ".py",
  "mimetype": "text/x-python",
  "name": "python",
  "npconvert_exporter": "python",
  "pygments_lexer": "ipython3",
  "version": 3
 },
 "cells": [
  {
   "cell_type": "markdown",
   "metadata": {},
   "source": [
    "# Feedback\n",
    "\n",
    "Ottima soluzione, conforme allo standard pep8. Buon utilizzo delle docstring e dei commenti. Note:\n",
    "\n",
    "* Per controllare se una chiave è presente nel dizionario non è necessario richiamare `.keys()` ma basta la condizione `chiave in dizionario`. Questo metodo è più veloce perché richiede la creazione del set di chiavi del dizionario."
   ]
  }
 ]
}