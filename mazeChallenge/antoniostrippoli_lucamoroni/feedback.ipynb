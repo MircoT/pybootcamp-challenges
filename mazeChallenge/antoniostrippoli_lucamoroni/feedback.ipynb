{
 "nbformat": 4,
 "nbformat_minor": 2,
 "metadata": {
  "language_info": {
   "name": "python",
   "codemirror_mode": {
    "name": "ipython",
    "version": 3
   }
  },
  "orig_nbformat": 2,
  "file_extension": ".py",
  "mimetype": "text/x-python",
  "name": "python",
  "npconvert_exporter": "python",
  "pygments_lexer": "ipython3",
  "version": 3
 },
 "cells": [
  {
   "cell_type": "markdown",
   "metadata": {},
   "source": [
    "# Feedback\n",
    "\n",
    "Codice conforme alle specifiche pep8 (fatto solo qualche piccolo aggiustamento) e ben organizzato. Ho solo sistemato tutto all'interno di un modulo, comprese delle funzioni definite dentro altre funzioni (se non condividono lo scope basta metterle nello stesso modulo precedute da `_`). Ottima la gestione del processo secondario e la visualizzazione finale dei dati. Ho trovato solo un import non utilizzato."
   ]
  }
 ]
}