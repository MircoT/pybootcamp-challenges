{
 "nbformat": 4,
 "nbformat_minor": 2,
 "metadata": {
  "language_info": {
   "name": "python",
   "codemirror_mode": {
    "name": "ipython",
    "version": 3
   }
  },
  "orig_nbformat": 2,
  "file_extension": ".py",
  "mimetype": "text/x-python",
  "name": "python",
  "npconvert_exporter": "python",
  "pygments_lexer": "ipython3",
  "version": 3
 },
 "cells": [
  {
   "cell_type": "markdown",
   "metadata": {},
   "source": [
    "# Feedback\n",
    "\n",
    "Algoritmo non ottimale per la risoluzione del problema (vedi DFS o soluzioni simili) ma va benissimo visto che il corso non era rivolto alla parte algoritmica. Riguardo al codice Python ci sono le note seguenti:\n",
    "\n",
    "* Usa le docstring per descrivere le funzioni\n",
    "* La variabile `x_p` viene generata all'interno del loop, sarebbe meglio inizializzarla con valori nulli per come la utilizzi\n",
    "* In generale la formattazione e le modalità di stesura del codice sono conformi agli standard pep8, quindi risulta leggibile.\n",
    "\n",
    "Il codice è stato modificato seguendo le linee guida. Osservando il commit si può vedere come rispettare meglio le specifiche della comunità per quanto riguarda la stesura del codice."
   ]
  }
 ]
}