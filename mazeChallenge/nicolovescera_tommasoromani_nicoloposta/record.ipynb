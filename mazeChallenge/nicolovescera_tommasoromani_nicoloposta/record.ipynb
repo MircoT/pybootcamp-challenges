{
 "cells": [
  {
   "cell_type": "markdown",
   "metadata": {},
   "source": [
    "# Mirco's Sex Dungeon\n",
    "## Trovare l'algoritmo\n",
    "Abbiano iniziato a pensare come poter esplorare un labirinto, e abbiamo deciso di usare un algoritmo di esplorazione per grafi: la BFS.\n",
    "Subito ci siamo accorti che per poterla utilizzare era necessario conoscere l'intero layout del labirinto per tradurlo in un grafo quindi abbiamo riadattato l'algoritmo alle nostre esigenze.\n"
   ]
  },
  {
   "cell_type": "code",
   "execution_count": null,
   "metadata": {},
   "outputs": [],
   "source": [
    "# Struttuta della cella del labiritno\n",
    "class Cella:\n",
    "    def __init__(self, init_str):\n",
    "        cols = {82: \"red\", 66: \"blue\", 71: \"green\", 32: \"white\"}\n",
    "\n",
    "        self.x = init_str['userX']\n",
    "        self.y = init_str['userY']\n",
    "        self.color = cols[init_str['userVal']]\n",
    "\n",
    "    def __repr__(self) -> str:\n",
    "        str_ = f\"x: {self.x}\\ty: {self.y}\\tcolor: {self.color}\"\n",
    "\n",
    "        return str_\n",
    "\n",
    "    def to_csv(self) -> str:\n",
    "        str_ = f\"{self.x},{self.y},{self.color}\\n\"\n",
    "        return str_\n"
   ]
  },
  {
   "cell_type": "markdown",
   "metadata": {},
   "source": [
    "L'algoritmo si basa sul fatto che ogni cella ha una propria X ed una propria Y da questa informazione è possibile creare una struttura dati contenente la lista di celle visitate in precedenza."
   ]
  },
  {
   "cell_type": "code",
   "execution_count": null,
   "metadata": {},
   "outputs": [],
   "source": [
    "# Analizza l'intero grafo, se invocata con True permette di analizzarne un secondo\n",
    "def bfs_search(confronto=False):\n",
    "    inizio = True\n",
    "    while len(cammino) != 0 or inizio:\n",
    "        inizio = False\n",
    "\n",
    "        obj_cell = json.loads(mazeClient.send_command(command.GET_STATE))\n",
    "        cell_attuale = Cella(obj_cell)\n",
    "\n",
    "        # Controlla se la cella è già stata visitata, in caso la aggiunge alla coda visitate\n",
    "        to_append = False\n",
    "        for cell in visitate:\n",
    "            if cell.x == cell_attuale.x and cell.y == cell_attuale.y:\n",
    "                to_append = True\n",
    "\n",
    "        if not to_append:\n",
    "            visitate.append(cell_attuale)\n",
    "        #-----------------------------------------------------------------------------------#\n",
    "\n",
    "        # Se la cella non ha vicini da visitare inizia il traceback\n",
    "        if not movimento(cell_attuale, remove_usless_neigh(cell_attuale, obj_cell['Neighbors'])):\n",
    "            test = traceback()\n",
    "            \n",
    "            # Se il traceback ritorna True la cella ha vicini non visitati, quindi ricomincio ad esplorare\n",
    "            if test:\n",
    "                new_cell = json.loads(mazeClient.send_command(command.GET_STATE))\n",
    "                tmp = Cella(new_cell)\n",
    "\n",
    "                # Se movimento ritorna False, non ci sono più celle da visitare\n",
    "                if not movimento(tmp, remove_usless_neigh(tmp, new_cell['Neighbors'])):\n",
    "                    break\n",
    "    \n",
    "    # Creo i csv\n",
    "    print(\"Esporto i dati in CSV ...\")\n",
    "    if confronto:\n",
    "        create_csv(\"data2.csv\")\n",
    "    else:\n",
    "        create_csv(\"data.csv\")\n",
    "\n",
    "    visitate.clear()\n",
    "    cammino.clear()\n",
    "\n",
    "    print(\"FATTO !\\n\")\n"
   ]
  },
  {
   "cell_type": "markdown",
   "metadata": {},
   "source": [
    "In oltre, poichè gli unici movimenti possibili sono Destra, Sinistra, Su e Giù, e le celle considerate vicine comprendono anche le celle posizionate diagonalmente, è stato necessario eliminare le suddette dalla lista dei vicini."
   ]
  },
  {
   "cell_type": "code",
   "execution_count": null,
   "metadata": {},
   "outputs": [],
   "source": [
    "# Toglie le celle adiacenti (vicini) diagonali alla cella passata\n",
    "def remove_usless_neigh(me: Cella, vicini: dict) -> list:\n",
    "    cont = 0\n",
    "\n",
    "    tmp = vicini.copy()\n",
    "\n",
    "    for elem in vicini:\n",
    "        if elem['x'] != me.x:\n",
    "            if elem['y'] != me.y:\n",
    "                del tmp[cont]\n",
    "                cont -= 1\n",
    "        cont += 1\n",
    "    return tmp\n"
   ]
  },
  {
   "cell_type": "markdown",
   "metadata": {},
   "source": [
    "Tramite la seguente funzione abbiamo fatto capire all'algoritmo come muoversi nel labirinto:"
   ]
  },
  {
   "cell_type": "code",
   "execution_count": null,
   "metadata": {},
   "outputs": [],
   "source": [
    "# Capisce come muoversi tra le celle vicine, e aggiunge il movimento fatto e l'inverso alla coda\n",
    "def movimento(cella_attuale: Cella, vicini: list) -> bool:\n",
    "    for neigh in vicini:\n",
    "        # Controlla se c'è un vicino non visitato\n",
    "        trovato = False\n",
    "        for cell in visitate:\n",
    "            if (neigh['x'] == cell.x and neigh['y'] == cell.y):\n",
    "                trovato = True\n",
    "        #---------------------------------------#\n",
    "\n",
    "        if not trovato:\n",
    "            if cella_attuale.y < neigh['y'] and cella_attuale.x == neigh['x']:\n",
    "                mazeClient.send_command(command.MOVE_LEFT)\n",
    "                cammino.append((command.MOVE_LEFT, command.MOVE_RIGHT))\n",
    "\n",
    "            elif cella_attuale.y > neigh['y'] and cella_attuale.x == neigh['x']:\n",
    "                mazeClient.send_command(command.MOVE_RIGHT)\n",
    "                cammino.append((command.MOVE_RIGHT, command.MOVE_LEFT))\n",
    "\n",
    "            elif cella_attuale.y == neigh['y'] and cella_attuale.x < neigh['x']:\n",
    "                mazeClient.send_command(command.MOVE_UP)\n",
    "                cammino.append((command.MOVE_UP, command.MOVE_DOWN))\n",
    "\n",
    "            elif cella_attuale.y == neigh['y'] and cella_attuale.x > neigh['x']:\n",
    "                mazeClient.send_command(command.MOVE_DOWN)\n",
    "                cammino.append((command.MOVE_DOWN, command.MOVE_UP))\n",
    "\n",
    "            return True     # Si è mosso\n",
    "    return False            # Non ha trovato vicini validi, inizio traceback\n"
   ]
  },
  {
   "cell_type": "markdown",
   "metadata": {},
   "source": [
    "L'algoritmo inizia con la visita di un vicino della cella di partenza, ad ogni movimento salva in una lista il movimento eseguito, così da ricordarsi il percorso da fare durante il traceback, che si interrompe quando si incontra una cella avente un vicino non visitato.\n",
    "Questo processo si ripete fino a che la cella iniziale non ha più vicini da visitare, terminando dunque sempre nella posizione di partenza."
   ]
  },
  {
   "cell_type": "code",
   "execution_count": null,
   "metadata": {},
   "outputs": [],
   "source": [
    "# Tornando indietro controllo se ci sono vicini non visitati\n",
    "def traceback() -> bool:\n",
    "    while True:\n",
    "        # Se 0 sono tornato alla cella di inizio\n",
    "        if len(cammino) == 0:\n",
    "            return False    # Algoritmo finito\n",
    "\n",
    "        cmd = cammino.pop()\n",
    "        mazeClient.send_command(cmd[1])\n",
    "\n",
    "        me = json.loads(mazeClient.send_command(command.GET_STATE))\n",
    "        vicini = remove_usless_neigh(Cella(me), me['Neighbors'])\n",
    "\n",
    "        for neigh in vicini:\n",
    "            trovato = False\n",
    "\n",
    "            # Controlla se c'è un vicino non visitato\n",
    "            for cell in visitate:\n",
    "                if (neigh['x'] == cell.x and neigh['y'] == cell.y):\n",
    "                    trovato = True\n",
    "\n",
    "            if not trovato:\n",
    "                return True # La cella dove sono tornato ha ancora vicini da visitare\n",
    "\n"
   ]
  },
  {
   "cell_type": "markdown",
   "metadata": {},
   "source": [
    "Alla fine i dati (x, y, color) delle relative celle vengono scritti in un file csv."
   ]
  },
  {
   "cell_type": "code",
   "execution_count": null,
   "metadata": {},
   "outputs": [],
   "source": [
    "# Creazione file csv con nome passatogli\n",
    "def create_csv(nome: str):\n",
    "    with open(nome, 'w') as myfile:\n",
    "        myfile.write(\"x,y,color\\n\")\n",
    "        for elem in visitate:\n",
    "            myfile.write(elem.to_csv())"
   ]
  },
  {
   "cell_type": "markdown",
   "metadata": {},
   "source": [
    "## Stampa della mappa\n",
    "Per la stampa della mappa del labirinto abbiamo usato una matrice che poi viene rempita con i nostri dati e poi stampata a schermo tramite terminale.\n",
    "\n",
    "La matrice è specchiata per avere la stessa visualizzazione che si ha nel mazeEngine."
   ]
  },
  {
   "cell_type": "code",
   "execution_count": null,
   "metadata": {},
   "outputs": [],
   "source": [
    "# Creazione e modifica della matrice prima della stampa a video\n",
    "def plot_maze():\n",
    "    init(autoreset=True)    # Server per l'output colorato\n",
    "\n",
    "    data = load_data('data.csv')\n",
    "\n",
    "    max_x = data['x'].max()\n",
    "    max_y = data['y'].max()\n",
    "\n",
    "    massimo = max(max_y, max_x)\n",
    "\n",
    "    matrice = np.zeros((massimo, massimo), dtype=int)\n",
    "\n",
    "    # Sistema le coordinate nella matrice\n",
    "    for _, row in data.iterrows():\n",
    "        matrice[- int(row['x']) % massimo][- int(row['y']) % massimo] = dict_colori2[row['color']]\n",
    "\n",
    "    print_matrix(matrice)\n",
    "    print(\"\\nLa mappa è orientata come nel MazeEngine.\\nLa riga delle X inizia dal basso verso l'alto.\\nLa riga delle Y parte da destra a sinitra nelle verticali.\\n\")    \n"
   ]
  },
  {
   "cell_type": "markdown",
   "metadata": {},
   "source": [
    "Questa funzione serve per distinguere e rappresentare i vari colori a video."
   ]
  },
  {
   "cell_type": "code",
   "execution_count": null,
   "metadata": {},
   "outputs": [],
   "source": [
    "# Stampa a video della Mappa\n",
    "def print_matrix(matrice: np.ndarray):\n",
    "    str_ = \"\"\n",
    "    for i in range(len(matrice)):\n",
    "        for j in range(len(matrice)):\n",
    "            if matrice[i][j] == 0:\n",
    "                str_ += Back.BLACK + \"  \"\n",
    "            elif matrice[i][j] == 1:\n",
    "                str_ += Back.WHITE + \"  \"\n",
    "            elif matrice[i][j] == 2:\n",
    "                str_ += Back.RED + \"  \"\n",
    "            elif matrice[i][j] == 3:\n",
    "                str_ += Back.BLUE + \"  \"\n",
    "            elif matrice[i][j] == 4:\n",
    "                str_ += Back.GREEN + \"  \"\n",
    "\n",
    "        str_ += Back.BLACK + \"\\n\"\n",
    "    print(str_)\n"
   ]
  },
  {
   "attachments": {
    "Grafo1.png": {
     "image/png": "[encoded data removed]"
    }
   },
   "cell_type": "markdown",
   "metadata": {},
   "source": [
    "![Grafo1.png](attachment:Grafo1.png)"
   ]
  },
  {
   "cell_type": "markdown",
   "metadata": {},
   "source": [
    "## Data Analysis\n",
    "Per lo svolgimento del data analysis abbiamo usato pandas, che ci ha permesso di manipolare il file csv creato in precedenza per estrarre il numero di celle relative ad un certo colore in corrispondenza delle cordinate x e y.\n",
    "Successivamente abbiamo stampato a video, tramite matplotlib, i grafici relativi alle due coordinate."
   ]
  },
  {
   "cell_type": "code",
   "execution_count": null,
   "metadata": {},
   "outputs": [],
   "source": [
    "# Stampa il dataframe passatogli come istogramma\n",
    "def plot_coordinata(data: pd.DataFrame, coordinata: str, alpha_value=1.0, title=\"Grafico 1\"):\n",
    "\n",
    "    data = data[[coordinata,'color']]\n",
    "\n",
    "    rosse = data[data['color'] == 'red'].groupby(coordinata).count()\n",
    "    blu = data[data['color'] == 'blue'].groupby(coordinata).count()\n",
    "    verdi = data[data['color'] == 'green'].groupby(coordinata).count()\n",
    "\n",
    "    ax = pd.concat([rosse,verdi,blu], axis = 1).plot(kind = 'bar', color = ['r','g','b'])\n",
    "    ax.legend([\"R\", \"G\", \"B\"])\n",
    "    ax.set_title(title)\n"
   ]
  },
  {
   "attachments": {
    "Grafo2.png": {
     "image/png": "[encoded data removed]"
    },
    "Maze.png": {
     "image/png": "[encoded data removed]"
    }
   },
   "cell_type": "markdown",
   "metadata": {},
   "source": [
    "![Grafo2.png](attachment:Grafo2.png)\n",
    "![Maze.png](attachment:Maze.png)"
   ]
  },
  {
   "cell_type": "markdown",
   "metadata": {},
   "source": [
    "Con pandas abbiamo anche ricavato il numero totale di celle e soltanto quelle Rosse, Verdi e Blu."
   ]
  },
  {
   "cell_type": "code",
   "execution_count": null,
   "metadata": {},
   "outputs": [],
   "source": [
    "# Conta il totale delle celle e il colore\n",
    "def cell_stats(data: pd.DataFrame):\n",
    "    colors = data['color'].value_counts()\n",
    "    \n",
    "    print(f\"\\nIl totale delle celle nel labirinto è di {data['color'].count()}.\\n\")\n",
    "    \n",
    "    # Tolgo le celle bianche\n",
    "    colors.drop('white', inplace=True)\n",
    "    \n",
    "    for color, value in colors.iteritems():\n",
    "        print(f\"{color}:\\t{value}\")\n"
   ]
  },
  {
   "cell_type": "markdown",
   "metadata": {},
   "source": [
    "### Confronto di due Labirinti\n",
    "Per la quest avanzata di visitare e confrontare due labirinti differenti abbiamo semplicemente fatto partire l'algoritmo su due labiritni diversi ricordandoci di eliminare il seed vecchio e far riavviare il mazeEngine."
   ]
  },
  {
   "cell_type": "code",
   "execution_count": null,
   "metadata": {},
   "outputs": [],
   "source": [
    "# Genera 2 grafici e li confronta \n",
    "def confronto():\n",
    "    bfs_search()\n",
    "    mazeClient.send_command(command.EXIT)\n",
    "\n",
    "    controls.del_seed()\n",
    "    controls.open_maze()\n",
    "    \n",
    "    sleep(0.5)\n",
    "    \n",
    "    bfs_search(confronto=True)\n",
    "    mazeClient.send_command(command.EXIT)\n",
    "\n",
    "    plot_stats(confronto=True)  # Stampa i grafici\n"
   ]
  },
  {
   "cell_type": "markdown",
   "metadata": {},
   "source": [
    "## Libera Esplorazione\n",
    "Attraverso la seguente funzione viene gestito il movimento libero per il labirinto, utilizzabile con l'argomento --free_move nel main."
   ]
  },
  {
   "cell_type": "code",
   "execution_count": null,
   "metadata": {},
   "outputs": [],
   "source": [
    "# Capice quale comando mandare al server usando freccie direzionali come input\n",
    "def move(input: str) -> str:\n",
    "    option = {\n",
    "        \"H\": command.MOVE_UP,\n",
    "        \"P\": command.MOVE_DOWN,\n",
    "        \"M\": command.MOVE_RIGHT,\n",
    "        \"K\": command.MOVE_LEFT\n",
    "    }\n",
    "\n",
    "    return mazeClient.send_command(option[input])\n",
    "\n",
    "\n",
    "# Permette di muoversi liberamente nel labirinto\n",
    "def free_move():\n",
    "    fine = False\n",
    "    print(\"Per muoversi usare le freccie direzionali.\\nPer uscire digitare q.\")\n",
    "    while not fine:\n",
    "        # Controllo del caratere inserito\n",
    "        escape = getch.getch()  # Prende il primo carattere delle freccie direzionali\n",
    "        if escape != b'\\x00':\n",
    "            if escape == b'q':\n",
    "                fine = True\n",
    "                continue\n",
    "\n",
    "            print(\"Carattere invalido !\")\n",
    "            continue\n",
    "\n",
    "        char_ = getch.getch()   # Prende il secondo carattere delle freccie direzionali \n",
    "\n",
    "        move(char_.decode(\"ascii\"))\n"
   ]
  },
  {
   "cell_type": "markdown",
   "metadata": {},
   "source": [
    "## Altro:\n",
    "Abbiamo anche aggiunto nella main la possibilità di poter visitare il labirinto senza una mappa con l'argomento --free_move e invece la possibilità di visitarlo dopo averne stampato la mappa con --move_map.\n",
    "Oltre a questo abbiamo inserito il file `requirements.txt` nel quale ci sono le dipendenze."
   ]
  },
  {
   "cell_type": "markdown",
   "metadata": {},
   "source": [
    "# Il team:\n",
    "* __Nicolò \"Eugenio\" Vescera__, @ncvescera su GitHub\n",
    "* __Tommaso \"Gay\" Romani__\n",
    "* __Nicolò \"Brüno\" Posta__\n",
    "\n"
   ]
  }
 ],
 "metadata": {
  "kernelspec": {
   "display_name": "Python 3.8.2 32-bit",
   "language": "python",
   "name": "python38232bit58837889451941b7b08cc28f026f2a77"
  },
  "language_info": {
   "codemirror_mode": {
    "name": "ipython",
    "version": 3
   },
   "file_extension": ".py",
   "mimetype": "text/x-python",
   "name": "python",
   "nbconvert_exporter": "python",
   "pygments_lexer": "ipython3",
   "version": "3.8.2"
  }
 },
 "nbformat": 4,
 "nbformat_minor": 4
}
