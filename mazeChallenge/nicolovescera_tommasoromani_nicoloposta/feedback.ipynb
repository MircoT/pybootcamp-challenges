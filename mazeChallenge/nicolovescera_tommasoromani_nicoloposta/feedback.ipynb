{
 "nbformat": 4,
 "nbformat_minor": 2,
 "metadata": {
  "language_info": {
   "name": "python",
   "codemirror_mode": {
    "name": "ipython",
    "version": 3
   }
  },
  "orig_nbformat": 2,
  "file_extension": ".py",
  "mimetype": "text/x-python",
  "name": "python",
  "npconvert_exporter": "python",
  "pygments_lexer": "ipython3",
  "version": 3
 },
 "cells": [
  {
   "cell_type": "markdown",
   "metadata": {},
   "source": [
    "# Feedback\n",
    "\n",
    "Ottima risoluzione del problema con l'algoritmo BFS. Vanno bene anche le quest avanzate, sia come sono state gestite che i risultati ottenuti. Di seguito le note delle modifiche fatte che riguardano il codice Python:\n",
    "\n",
    "* Usate le docstring per descrivere le funzioni\n",
    "* C'era un `import numpy as np` non utilizzato\n",
    "* Codice così diviso è bene integrarlo come un unico modulo utilizzando import relativi, così da evitare problemi di namespace ed essere più sicuri dell'isolamento delle varie funzioni.\n",
    "* Il codice è stato modificato seguendo le linee guida che sono state per lo più rispettate, quindi ci sono solo piccoli dettagli da vedere, come l'utilizzo di variabili tutte maiuscole quando globali e importate in altri moduli (guarda `COMMAND` per `confronto.py`).\n",
    "* Per la parte di esplorazione libera andrebbe usata una libreria diversa o comunque aggiunto il supporto per altre piattaforme, visto che i caratteri escape della tastiera non sono per tutti uguali\n",
    "\n",
    "PS: strano nome per un dungeon..."
   ]
  }
 ]
}