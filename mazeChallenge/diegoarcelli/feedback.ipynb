{
 "nbformat": 4,
 "nbformat_minor": 2,
 "metadata": {
  "language_info": {
   "name": "python",
   "codemirror_mode": {
    "name": "ipython",
    "version": 3
   }
  },
  "orig_nbformat": 2,
  "file_extension": ".py",
  "mimetype": "text/x-python",
  "name": "python",
  "npconvert_exporter": "python",
  "pygments_lexer": "ipython3",
  "version": 3
 },
 "cells": [
  {
   "cell_type": "markdown",
   "metadata": {},
   "source": [
    "# Feedback\n",
    "\n",
    "* Attenzione agli import inutilizzati\n",
    "* Il controllo dello stesso valore di una chiave di un dizionario andrebbe prima memorizzato e poi controllato se lo si deve utilizzare in catena su più condizioni\n",
    "* attenzione a non utilizzare keyword o funzioni builtin, per esempio `map` o `exit`\n",
    "* condizioni True o False vanno confrontate con `is` quando si usano come risultato, per esempio come ritorno di una funzione\n",
    "* Una `print` utilizzata solo per nuova linea non ha bisogno di una stringa vuota\n",
    "\n",
    "L'esplorazione ha una logica corretta e non c'erano requisiti riguardanti l'utilizzo di librerie esterne per avere accesso diretto all'input, ma l'utilizzo di raylib, pygame, py-getch o equivalente poteva essere utile."
   ]
  }
 ]
}