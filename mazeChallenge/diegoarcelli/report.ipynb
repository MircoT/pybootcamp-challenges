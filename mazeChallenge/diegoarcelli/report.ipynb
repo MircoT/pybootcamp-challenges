{
 "cells": [
  {
   "cell_type": "markdown",
   "metadata": {},
   "source": [
    "# Maze challenge report - Diego Arcelli"
   ]
  },
  {
   "cell_type": "markdown",
   "metadata": {},
   "source": [
    "Per risolvere la challange, dopo una prima fase di studio con piccoli script atti a comprendere i vari attributi delle celle del labirinto, piuttosto che implementare una per una le soluzioni di ciascuna quest ho preferito realizzare un unico programma interattivo (prendendo spunto dall'ultima quest) che ingloba le varie soluzioni delle quest.\n",
    "Ho qundi realizzato semplice programma che permette di esplorare il labirinto, stampandone una sua rappresentazione grafica nel terminale man mano che si esplora, inserendo in input gli spostamenti desiderati."
   ]
  },
  {
   "cell_type": "markdown",
   "metadata": {},
   "source": [
    "L'esplorazione del labirinto è gestita principalmente dalla funzione exploration, che consiste essenzialmente di un ciclo che ad ogni iterazione stampa la parte di labirinto attualmente esplorata, richiede all'utente di inserire la prossima direzione nella quale spostarsi e permette di visualizzare le statistiche sul labirinto raccolte durante l'esplorazione.\n",
    "Un altro elemento fondamentale è la lista explored_maze, che contiene tutte le celle del labirinto esplorate. Ogni elemento della lista è un dizionario che contiene le coordinate della cella ed il suo colore."
   ]
  },
  {
   "cell_type": "code",
   "execution_count": null,
   "metadata": {},
   "outputs": [],
   "source": [
    "def exploration(command):\n",
    "\n",
    "    explored_maze = []\n",
    "    exit = False\n",
    "    getch = G._Getch()\n",
    "\n",
    "    while not exit:\n",
    "\n",
    "        res = mazeClient.send_command(command.GET_STATE)\n",
    "        pos = json.loads(res)\n",
    "        print(pos)\n",
    "\n",
    "        elm = {}\n",
    "        elm[\"x\"] = pos[\"userX\"]\n",
    "        elm[\"y\"] = pos[\"userY\"]\n",
    "        elm[\"val\"] = pos[\"userVal\"]\n",
    "        if is_in_maze(explored_maze, elm) == False:\n",
    "            explored_maze.append(elm)\n",
    "        \n",
    "        for block in pos[\"Neighbors\"]:\n",
    "            if is_in_maze(explored_maze, block) == False:\n",
    "                explored_maze.append(block)\n",
    "        \n",
    "        os.system(\"clear\")\n",
    "        print(\"\")\n",
    "        print_map(explored_maze, elm)\n",
    "        print(\"\")\n",
    "        values = get_stats(explored_maze)\n",
    "        print(\"Total: \" + str(values[\"total\"]) + \", red: \" + str(values[\"red\"]) + \", green: \" + str(values[\"green\"]) + \", blue: \" + str(values[\"blue\"]) + \", white: \" + str(values[\"white\"]))\n",
    "        filter_neighbors(pos[\"Neighbors\"],elm)\n",
    "        print(\"Select option:\\nW) Up\\nS) Down\\nR) Right\\nA) Left\\nE) Exit\\nP) Plot stats\\n\")\n",
    "        sel = getch()\n",
    "        if sel == \"w\" or sel == \"W\":\n",
    "            mazeClient.send_command(command.MOVE_UP)\n",
    "        elif sel == \"s\" or sel == \"S\":\n",
    "            mazeClient.send_command(command.MOVE_DOWN)\n",
    "        elif sel == \"d\" or sel == \"D\":\n",
    "            mazeClient.send_command(command.MOVE_RIGHT)\n",
    "        elif sel == \"a\" or sel == \"A\":\n",
    "            mazeClient.send_command(command.MOVE_LEFT)\n",
    "        elif sel == \"e\" or sel == \"E\":\n",
    "            exit = True\n",
    "        elif sel == \"p\" or sel == \"P\":\n",
    "            frequency_distribution(explored_maze)\n",
    "        else:\n",
    "            print(\"Invalid\")   "
   ]
  },
  {
   "cell_type": "markdown",
   "metadata": {},
   "source": [
    "Ora verrano mostrate più in dettaglio le funzioni utilizzate dalla funzione exploration."
   ]
  },
  {
   "cell_type": "markdown",
   "metadata": {},
   "source": [
    "La funzione find_dimension prende come paramtero la lista delle celle esplorate e la usa per calcolare la dimensione della più piccola matrice rettangolare che può contenere tutte le celle attualmente esplorate. "
   ]
  },
  {
   "cell_type": "code",
   "execution_count": null,
   "metadata": {},
   "outputs": [],
   "source": [
    "def find_dimension(explored_maze):\n",
    "    x_max = explored_maze[0][\"x\"]\n",
    "    y_max = explored_maze[0][\"y\"]\n",
    "    x_min = explored_maze[0][\"x\"]\n",
    "    y_min = explored_maze[0][\"y\"]\n",
    "    for elm in explored_maze:\n",
    "        if elm[\"x\"] > x_max:\n",
    "            x_max = elm[\"x\"]\n",
    "        if elm[\"x\"] < x_min:\n",
    "            x_min = elm[\"x\"]\n",
    "        if elm[\"y\"] > y_max:\n",
    "            y_max = elm[\"y\"]\n",
    "        if elm[\"y\"] < y_min:\n",
    "            y_min = elm[\"y\"]\n",
    "    return x_max, x_min, y_max, y_min"
   ]
  },
  {
   "cell_type": "markdown",
   "metadata": {},
   "source": [
    "La funzione print_map prima inserisce le celle esplorate in una matrice e poi la usa per stampare una rappresentazione grafica del labirinto esplorato, rappresentando la posizione del giocatore nel labirinto con il carattere '0'."
   ]
  },
  {
   "cell_type": "code",
   "execution_count": null,
   "metadata": {},
   "outputs": [],
   "source": [
    "def print_map(explored_maze, pos):\n",
    "\n",
    "    x = pos[\"x\"]\n",
    "    y = pos[\"y\"]\n",
    "\n",
    "    x_max, x_min, y_max, y_min = find_dimension(explored_maze)\n",
    "    lenght = x_max - x_min + 1\n",
    "    width = y_max - y_min + 1\n",
    "\n",
    "    size = (width, lenght)\n",
    "\n",
    "    map = np.zeros(size)\n",
    "\n",
    "    for i in reversed(range(lenght)):\n",
    "        for j in reversed(range(width)):\n",
    "            check = False\n",
    "            for elm in explored_maze:\n",
    "                if elm[\"x\"] == i + x_min and elm[\"y\"] == j + y_min:\n",
    "                    check = True\n",
    "            if check:\n",
    "                map[j,i] = 1\n",
    "            else:\n",
    "                map[j,i] = 0\n",
    "\n",
    "    for i in range(width + 2):\n",
    "        print(\"@\", end=\"\")\n",
    "    print(\"\")\n",
    "    for i in reversed(range(lenght)):\n",
    "        print(\"@\", end=\"\")\n",
    "        for j in reversed(range(width)):\n",
    "            if i == x - x_min and j == y - y_min:\n",
    "                print(\"0\", end=\"\")\n",
    "            elif map[j,i] == 1:\n",
    "                print(\" \", end = \"\")\n",
    "            else:\n",
    "                print(\"#\", end = \"\")         \n",
    "        print(\"@\")\n",
    "    for i in range(width + 2):\n",
    "        print(\"@\", end=\"\")\n"
   ]
  },
  {
   "cell_type": "markdown",
   "metadata": {},
   "source": [
    "La funzione is_in_maze verifica se una determinata cella è già presente nella lista delle celle esplorate."
   ]
  },
  {
   "cell_type": "code",
   "execution_count": null,
   "metadata": {},
   "outputs": [],
   "source": [
    "def is_in_maze(explored_maze, block):\n",
    "    for elm in explored_maze:\n",
    "        if elm[\"x\"] == block[\"x\"] and elm[\"y\"] == block[\"y\"]:\n",
    "            return True\n",
    "    return False"
   ]
  },
  {
   "cell_type": "markdown",
   "metadata": {},
   "source": [
    "La funzione filter_neighbors data una cella e la lista delle sue celle adiacenti, va ad eliminare dalla lista le celle adiacenti non raggiungibili. Questo perchè quando il challenge engine ritrona le informazioni id una cella, nella lista dei vicini inserisce anche le celle adiacenti sulla diagonale, che però non sono raggiungibili con un solo spostamento in quanto ci si può muovere solo in 4 direzioni. "
   ]
  },
  {
   "cell_type": "code",
   "execution_count": null,
   "metadata": {},
   "outputs": [],
   "source": [
    "def filter_neighbors(neighbors, block):\n",
    "    filtered = []\n",
    "    for elm in neighbors:\n",
    "        if not(elm[\"x\"] != block[\"x\"] and elm[\"y\"] != block[\"y\"]):\n",
    "            filtered.append(elm)\n",
    "    available_directions(filtered, block)\n",
    "    return filtered"
   ]
  },
  {
   "cell_type": "markdown",
   "metadata": {},
   "source": [
    "La funzione aviable_direction stampa a schermo la direzioni delle celle raggiungibili a partire da una data cella con un solo spostamento."
   ]
  },
  {
   "cell_type": "code",
   "execution_count": null,
   "metadata": {},
   "outputs": [],
   "source": [
    "def available_directions(neighbors, block):\n",
    "    print(\"Aviable direction: \", end=\"\")\n",
    "    for elm in neighbors:\n",
    "        if elm[\"x\"] > block[\"x\"]:\n",
    "            print(\"up \", end=\"\")\n",
    "        elif elm[\"x\"] < block[\"x\"]:\n",
    "            print(\"down \", end=\"\")\n",
    "        elif elm[\"y\"] > block[\"y\"]:\n",
    "            print(\"left \", end=\"\")\n",
    "        elif elm[\"y\"] < block[\"y\"]:\n",
    "            print(\"right \", end=\"\")\n",
    "    print(\"\")"
   ]
  },
  {
   "cell_type": "markdown",
   "metadata": {},
   "source": [
    "La funzione get_stats calcola in numero totale di celle ed il numero di celle per colore presenti nella lista delle celle esplorate."
   ]
  },
  {
   "cell_type": "code",
   "execution_count": null,
   "metadata": {},
   "outputs": [],
   "source": [
    "def get_stats(explored_maze):\n",
    "    values = {}\n",
    "    values[\"total\"] = 0\n",
    "    values[\"red\"] = 0\n",
    "    values[\"white\"] = 0\n",
    "    values[\"blue\"] = 0\n",
    "    values[\"green\"] = 0\n",
    "    for block in explored_maze:\n",
    "        values[\"total\"] += 1\n",
    "        if block[\"val\"] == 82:\n",
    "            values[\"red\"] += 1\n",
    "        elif block[\"val\"] == 32:\n",
    "            values[\"white\"] += 1\n",
    "        elif block[\"val\"] == 71:\n",
    "            values[\"green\"] += 1\n",
    "        elif block[\"val\"] == 66:\n",
    "            values[\"blue\"] += 1\n",
    "    return values"
   ]
  },
  {
   "cell_type": "markdown",
   "metadata": {},
   "source": [
    "La funzione frequency_distribution semplicemente plotta un istogramma del numero delle celle esplorate per colore."
   ]
  },
  {
   "cell_type": "code",
   "execution_count": null,
   "metadata": {},
   "outputs": [],
   "source": [
    "def frequency_distribution(explored_maze):\n",
    "    values = get_stats(explored_maze)\n",
    "    absFreq = [\"red\"]*values[\"red\"] + [\"green\"]*values[\"green\"] + [\"white\"]*values[\"white\"] + [\"blue\"]*values[\"blue\"] \n",
    "    plt.hist(absFreq, density=False)\n",
    "    plt.show()"
   ]
  },
  {
   "cell_type": "markdown",
   "metadata": {},
   "source": [
    "Tra i file è anche presente Getch.py che contiente la seguente classe."
   ]
  },
  {
   "cell_type": "code",
   "execution_count": null,
   "metadata": {},
   "outputs": [],
   "source": [
    "class _Getch:\n",
    "\n",
    "    def __init__(self):\n",
    "        self.impl = _GetchUnix()\n",
    "\n",
    "    def __call__(self): return self.impl()\n",
    "\n",
    "\n",
    "class _GetchUnix:\n",
    "    def __init__(self):\n",
    "        import tty, sys\n",
    "\n",
    "    def __call__(self):\n",
    "        import sys, tty, termios\n",
    "        fd = sys.stdin.fileno()\n",
    "        old_settings = termios.tcgetattr(fd)\n",
    "        try:\n",
    "            tty.setraw(sys.stdin.fileno())\n",
    "            ch = sys.stdin.read(1)\n",
    "        finally:\n",
    "            termios.tcsetattr(fd, termios.TCSADRAIN, old_settings)\n",
    "        return ch"
   ]
  },
  {
   "cell_type": "markdown",
   "metadata": {},
   "source": [
    "Essenzialmente mi serve per poter prendere l'input dell'utente da tastiera senza dover ogni volta premere il tasto invio, velocizzando l'esplorazione del labirinto. Però il modulo che utilizza per svolgere questa operazione è compatibilie solo con Linux (personalmente l'ho testato solo sulla mia macchina con Debian 10), dunque ho anche inserito il file main2.py che essenzialmente è identico a main.py solo che per l'input da tastiera usa la funzione input() di python e quindi ogni volta va confermato l'input premendo invio ma almeno è compatibile anche con Windows e Mac."
   ]
  }
 ],
 "metadata": {
  "file_extension": ".py",
  "kernelspec": {
   "display_name": "Python 3",
   "language": "python",
   "name": "python3"
  },
  "language_info": {
   "codemirror_mode": {
    "name": "ipython",
    "version": 3
   },
   "file_extension": ".py",
   "mimetype": "text/x-python",
   "name": "python",
   "nbconvert_exporter": "python",
   "pygments_lexer": "ipython3",
   "version": "3.7.3"
  },
  "mimetype": "text/x-python",
  "name": "python",
  "npconvert_exporter": "python",
  "pygments_lexer": "ipython3",
  "version": 3
 },
 "nbformat": 4,
 "nbformat_minor": 2
}
