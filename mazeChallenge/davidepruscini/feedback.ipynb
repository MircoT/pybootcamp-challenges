{
 "nbformat": 4,
 "nbformat_minor": 2,
 "metadata": {
  "language_info": {
   "name": "python",
   "codemirror_mode": {
    "name": "ipython",
    "version": 3
   }
  },
  "orig_nbformat": 2,
  "file_extension": ".py",
  "mimetype": "text/x-python",
  "name": "python",
  "npconvert_exporter": "python",
  "pygments_lexer": "ipython3",
  "version": 3
 },
 "cells": [
  {
   "cell_type": "markdown",
   "metadata": {},
   "source": [
    "# Feedback\n",
    "\n",
    "In generale codice ben scritto e conforme agli standard pep8. Ottimo utilizzo delle docstring e dei commenti, copresa anche la parte di argparse.\n",
    "\n",
    "Unico punto che è stato cambiato è l'organizzazione del codice, mettendo tutto come un unico modulo con import relativi."
   ]
  }
 ]
}