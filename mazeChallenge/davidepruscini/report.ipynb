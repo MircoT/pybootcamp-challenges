{
 "cells": [
  {
   "cell_type": "markdown",
   "metadata": {},
   "source": [
    "# Soluzione 'The Maze Challenge' - Davide Pruscini (prushh)"
   ]
  },
  {
   "cell_type": "markdown",
   "metadata": {},
   "source": [
    "## <font color='#428bca'>Engine</font>\n",
    "Al fine di risolvere le varie Quest è stato necessario capire il funzionamento dell'engine, messo a disposizione grazie ai tre file eseguibili (rispettivamente per Linux, MacOS o Windows) e come interagire con esso tramite il modulo **mazeClient**.\n",
    "Al suo interno troviamo due classi (**Commands**, **\\_MazeCommand**) e la funzione `send_command(command)` che ci permetterà di:\n",
    "* Ricavare informazioni su nodo corrente, *GET_STATE*\n",
    "    * {\n",
    "          \"userX\": 14,\n",
    "          \"userY\": 10,\n",
    "          \"userVal\": 32,\n",
    "          \"Neighbors\": [\n",
    "            {\n",
    "              \"x\": 14,\n",
    "              \"y\": 9,\n",
    "              \"val\": 82\n",
    "            },\n",
    "            {\n",
    "              \"x\": 14,\n",
    "              \"y\": 11,\n",
    "              \"val\": 71\n",
    "            }\n",
    "          ]\n",
    "        }\n",
    "* Muovere il cursore tra i vari nodi\n",
    "    * (x, y+1), *MOVE_LEFT*\n",
    "    * (x, y-1), *MOVE_RIGHT*\n",
    "    * (x+1, y), *MOVE_UP*\n",
    "    * (x-1, y), *MOVE_DOWN*\n",
    "* Terminare l'esecuzione dell'engine\n",
    "    * *EXIT*\n",
    "\n",
    "Selezionando la finestra del processo in esecuzione, è inoltre possibile usare le frecce direzionali per muoversi in maniera molto rapida tra le celle.\n",
    "Modificando il file **seed.maze** si potranno ottenere ulteriori labirinti distinti."
   ]
  },
  {
   "cell_type": "markdown",
   "metadata": {},
   "source": [
    "## <font color='#428bca'>Argparse</font>\n",
    "```\n",
    "usage: main.py file_path [--no_stats] [-c] [-d] [-h]\n",
    "\n",
    "                        'The Maze Challenge' by MircoT\n",
    "                                Solution by prushh\n",
    "        ------------------------------------------------------------\n",
    "        There are two modes of use:\n",
    "         - Classic maze solver with stats\n",
    "         - Controller mode (disable stats)\n",
    "        You must specify mazeEngine.ext path for parallel execution.\n",
    "\n",
    "\n",
    "positional arguments:\n",
    "  file_path         executable file to start engine\n",
    "\n",
    "optional arguments:\n",
    "  -h, --help        show this help message and exit\n",
    "  -c, --controller  controller mode for interact with engine\n",
    "  --no_stats        hide statistical information\n",
    "  -d, --debug       print debug information and more\n",
    "\n",
    "```"
   ]
  },
  {
   "cell_type": "markdown",
   "metadata": {},
   "source": [
    "## <font color='#428bca'>Quests</font>\n",
    "### 1. Muoviti e raccogli statistiche sul labirinto\n",
    "Questa è stata la Quest a mio parere più impegnativa, non tanto per la raccolta di alcuni dati statistici ma per la realizzazione di un algoritmo che funzionasse correttamente per tutti i seed.<br>\n",
    "Avendo a disposizione per ogni nodo una lista contenente i vicini per tutte e 8 le direzioni (4 raggiungibili + 4 diagonali), ho pensato di adattare il problema della visita in profondità di un grafo (DFS), immaginando ogni cella come un vertice appartenente ad esso.<br>\n",
    "Una prima implementazione iterativa comprendeva l'ausilio di una *Stack* ma ho avuto problemi nel tornare indietro ad ispezionare nuovamente i *Neighbors* e di conseguenza ad aggiornare l'interfaccia; così ho optato per una soluzione ricorsiva:"
   ]
  },
  {
   "cell_type": "code",
   "execution_count": null,
   "metadata": {},
   "outputs": [],
   "source": [
    "def explore(self, cur_node: dict, last_act: str):\n",
    "        '''\n",
    "        Core for maze solver. It is a recursive function\n",
    "        inspired to Depth-First-Search logic.\n",
    "        '''\n",
    "        neighbors = cur_node['Neighbors']\n",
    "        for neighbor in neighbors:\n",
    "            if neighbor in self.__get_valid_neighbors(cur_node):\n",
    "                if neighbor not in self.visited:\n",
    "                    self.visited.append(neighbor)\n",
    "                    self.__increment_coord_color(neighbor)\n",
    "                    self.__increment_color(neighbor['val'])\n",
    "\n",
    "                    action = self.__get_action(cur_node, neighbor)\n",
    "                    new_node = to_dict(get_response(action))\n",
    "                    if args.debug:\n",
    "                        print(action)\n",
    "                        sleep(0.5)\n",
    "\n",
    "                    self.explore(new_node, action)\n",
    "            elif neighbor not in self.visited:\n",
    "                self.known.append(neighbor)\n",
    "        # There are not other valid near node,\n",
    "        # reverse last action and go back\n",
    "        reverse_act = self.__reverse_action(last_act)\n",
    "        get_response(reverse_act)\n",
    "        if args.debug:\n",
    "            print(reverse_act)\n",
    "            sleep(0.5)"
   ]
  },
  {
   "cell_type": "markdown",
   "metadata": {},
   "source": [
    " - Per ogni vicino in *Neighbors* controllo se è raggiungibile, escludo quindi i nodi diagonali che andrò a considerare nell'altro ramo di selezione\n",
    " - Più internamente, se questo vicino non è stato già visitato:\n",
    "     - lo aggiungo alla lista dei visitati\n",
    "     - aggiorno le varie strutture per memorizzare dati statistici\n",
    "     - ricavo l'azione per raggiungerlo e sposto il cursore\n",
    "     - richiamo la funzione `explore()` con i nuovi parametri\n",
    " - La chiamata ricorsiva è terminata, inverto l'ultima azione e torno indietro\n",
    " \n",
    "Infine, per avere tutti i nodi memorizzati in una sola struttura, è necessario richiamare la seguente funzione che aggiunge alla lista dei nodi visitati i nodi diagonali conosciuti durante il tragitto, ma non raggiungibili fisicamente."
   ]
  },
  {
   "cell_type": "code",
   "execution_count": null,
   "metadata": {},
   "outputs": [],
   "source": [
    "def __fix_known(self):\n",
    "    '''\n",
    "    Add the known neighbors to the visited ones.\n",
    "    '''\n",
    "    for neighbor in self.known:\n",
    "        if neighbor not in self.visited:\n",
    "            print(neighbor)\n",
    "            self.visited.append(neighbor)\n",
    "            self.__increment_coord_color(neighbor)\n",
    "            self.__increment_color(neighbor['val'])"
   ]
  },
  {
   "cell_type": "markdown",
   "metadata": {},
   "source": [
    "### 2. Conta le celle totali nel labirinto (Bianche, Rosse, Blu, Verdi)\n",
    "### 3. Conta il numero di celle Rosse, Blu e Verdi\n",
    "Come detto in precedenza la raccolta dei dati non è stata complicata, ho utilizzato un dizionario inizializzato nel modo seguente:\n",
    "```python\n",
    "self.colors_count = {\n",
    "            'white': 0,\n",
    "            'blue': 0,\n",
    "            '#00ff00': 0,\n",
    "            'red': 0\n",
    "        }\n",
    "```\n",
    "Con l'ausilio di questa struttura posso andare direttamente ad incrementare il valore specificando la *key*, abbiamo visto però che il colore rappresentato da *userVal* viene fornito sotto forma di codice, bisogna quindi effettuare una conversione:"
   ]
  },
  {
   "cell_type": "code",
   "execution_count": null,
   "metadata": {},
   "outputs": [],
   "source": [
    "def __get_color_name(self, color: int) -> str:\n",
    "    '''\n",
    "    Returns color name specified by int code.\n",
    "    ex: 32 -> white\n",
    "    '''\n",
    "    colors_code = {\n",
    "        32: 'white',\n",
    "        66: 'blue',\n",
    "        71: '#00ff00',\n",
    "        82: 'red'\n",
    "    }\n",
    "    return colors_code[color]"
   ]
  },
  {
   "cell_type": "markdown",
   "metadata": {},
   "source": [
    "Una volta ottenuta la stringa che rappresenta il colore si può provvedere ad aggiornare le frequenze:"
   ]
  },
  {
   "cell_type": "code",
   "execution_count": null,
   "metadata": {},
   "outputs": [],
   "source": [
    "def __increment_color(self, color: int):\n",
    "    '''\n",
    "    Update the frequency of colors find in the maze.\n",
    "    '''\n",
    "    self.colors_count[self.__get_color_name(color)] += 1"
   ]
  },
  {
   "cell_type": "markdown",
   "metadata": {},
   "source": [
    "Da `self.colors_count` possiamo quindi facilmente ricavare:\n",
    " * numero totale di celle, utilizzando `sum(self.colors_count.values())`\n",
    " * numero di celle per ogni colore\n",
    "\n",
    "Per riprendere confidenza con i plot questi dati sono stati visualizzati graficamente, utilizzando la funzione `plt_colors_dist(dict_)` reperibile in **statistics.py**"
   ]
  },
  {
   "cell_type": "markdown",
   "metadata": {},
   "source": [
    "### 4. Traccia l'istogramma della distribuzione della frequenza di colore per le coordinate X e Y<a name='quest_four' />\n",
    "Anche in questo caso è stato utilizzato un dizionario, con all'interno due *key* già presenti:\n",
    "```python\n",
    "self.colors_xy = {'x': {}, 'y': {}}\n",
    "```\n",
    "L'idea è quella di aggiungere per ogni nodo ispezionato la propria coordinata x come *key* in `self.colors_xy['x']` ed equivalentemente per y in `self.colors_xy['y']`. Dato che non conosciamo a priori le *sub-key* e bisognerà contare per ognuna di esse la frequenza con la quale si ripete un colore, si è pensato di usare la funzione `setdefault(keyname, value)` per l'inizializzazione di ogni coordinata nel seguente modo:"
   ]
  },
  {
   "cell_type": "code",
   "execution_count": null,
   "metadata": {},
   "outputs": [],
   "source": [
    "def __increment_coord_color(self, node: dict):\n",
    "    '''\n",
    "    Update the color frequency distribution\n",
    "    for XY coordinates.\n",
    "    '''\n",
    "    x = node['x']\n",
    "    y = node['y']\n",
    "    c_code = node['val']\n",
    "    dict_ = {\n",
    "            'white': 0,\n",
    "            'blue': 0,\n",
    "            '#00ff00': 0,\n",
    "            'red': 0\n",
    "    }\n",
    "\n",
    "    # If key does not exists create\n",
    "    # and fill it with default value\n",
    "    self.colors_xy['x'].setdefault(x, dict_)\n",
    "    self.colors_xy['y'].setdefault(y, dict_)\n",
    "    self.colors_xy['x'][x][self.__get_color_name(c_code)] += 1\n",
    "    self.colors_xy['y'][y][self.__get_color_name(c_code)] += 1"
   ]
  },
  {
   "cell_type": "markdown",
   "metadata": {},
   "source": [
    "Come espressamente richiesto questi dati sono stati visualizzati graficamente, utilizzando la funzione `plt_xy_dist(xy_freq, old_xy_freq)` reperibile in **statistics.py**"
   ]
  },
  {
   "cell_type": "code",
   "execution_count": null,
   "metadata": {},
   "outputs": [],
   "source": [
    "def plt_xy_dist(xy_freq: dict, old_xy_freq: dict):\n",
    "    '''\n",
    "    Plot the histogram of the color frequency\n",
    "    distribution for X e Y coordinates.\n",
    "    If old_freq is not empty, show the previous distribution.\n",
    "    '''\n",
    "    # Prepares colors list and labels\n",
    "    colors = xy_freq['x'][list(xy_freq['x'].keys())[0]].keys()\n",
    "    title = 'Colors distribution for XY coordinates'\n",
    "    title_x = 'X distribution'\n",
    "    title_y = 'Y distribution'\n",
    "    old_title_x = f'Old {title_x}'\n",
    "    old_title_y = f'Old {title_y}'\n",
    "    ylabel = 'Number of cells'\n",
    "\n",
    "    # Creates pandas.DataFrame (more simple to manage) and sort them for index\n",
    "    # Current maze information\n",
    "    df_x = pd.DataFrame.from_dict(xy_freq['x'], orient='index').sort_index()\n",
    "    df_y = pd.DataFrame.from_dict(xy_freq['y'], orient='index').sort_index()\n",
    "    \n",
    "    # Create subplot ad customize it\n",
    "    fig, axes = _dark_subplots(nrows=2, ncols=2)\n",
    "    fig.suptitle(title, fontsize=15)\n",
    "    df_x.plot.bar(figsize=(12, 8), ax=axes[0][0], yticks=_get_max_tick(df_x), color=colors, legend=False)\n",
    "    df_y.plot.bar(ax=axes[0][1], yticks=_get_max_tick(df_y), color=colors, legend=False)\n",
    "    axes[0][0].set(title=title_x, ylabel=ylabel)\n",
    "    axes[0][1].set(title=title_y)\n",
    "\n",
    "    if len(old_xy_freq):\n",
    "        # Old maze information\n",
    "        old_df_x = pd.DataFrame.from_dict(old_xy_freq['x'], orient='index').sort_index()\n",
    "        old_df_y = pd.DataFrame.from_dict(old_xy_freq['y'], orient='index').sort_index()\n",
    "\n",
    "        # Create subplot ad customize it\n",
    "        old_df_x.plot.bar(ax=axes[1][0], yticks=_get_max_tick(old_df_x), color=colors, legend=False)\n",
    "        old_df_y.plot.bar(ax=axes[1][1], yticks=_get_max_tick(old_df_y), color=colors, legend=False)\n",
    "\n",
    "        axes[1][0].set(title=old_title_x, ylabel=ylabel)\n",
    "        axes[1][1].set(title=old_title_y)\n",
    "\n",
    "    plt.show()"
   ]
  },
  {
   "cell_type": "markdown",
   "metadata": {},
   "source": [
    "Nella <a href=#quest_seven>Quest7</a> verrà commentata la possibilità di confrontare le vecchie distribuzioni della frequenza di colore per X ed Y."
   ]
  },
  {
   "cell_type": "markdown",
   "metadata": {},
   "source": [
    "### 5. Traccia il labirinto esplorato come una mappa\n",
    "Avendo a disposizione le coordinate *x* ed *y* per ogni nodo viene spontaneo pensare alla realizzazione di una matrice.<br>\n",
    "Si è deciso di utilizzare la funzione `numpy.zeros(shape, dtype=float, order='C')` per creare un array 2D inizializzato a 0: le dimensioni di quest'ultimo saranno definite da una semplice operazione del tipo `max_coord - min_coord + 1` e verrà specificato il parametro `dtype`.<br>\n",
    "Per ricavare i valori massimi e minimi che ci occorrono, la lista dei nodi è stata convertita in **pandas.DataFrame** così da effettuare questa operazione in maniera molto semplice. Si valorizzano poi le corrispettive celle della matrice con i valori *1, 2, 3, 4* a seconda del colore di ogni nodo.<br>\n",
    "È stata infine scelta la funzione `matshow(A, fignum=None, \\**kwargs)` per visualizzare la matrice creata, la quale prende in input anche cmap, oggetto **Colormap** generato da una lista di colori."
   ]
  },
  {
   "cell_type": "code",
   "execution_count": null,
   "metadata": {},
   "outputs": [],
   "source": [
    "def plt_map(visited: list):\n",
    "    '''\n",
    "    Plot the explored maze as a map.\n",
    "    '''\n",
    "    title = 'Map of the explored maze'\n",
    "    cmap = ListedColormap(['black', 'white', 'blue', '#00ff00', 'red'])\n",
    "    colors_code = {\n",
    "        32: 1,\n",
    "        66: 2,\n",
    "        71: 3,\n",
    "        82: 4\n",
    "    }\n",
    "\n",
    "    # Simple solution for max/min with pd.DataFrame\n",
    "    df = pd.DataFrame(visited)\n",
    "    min_x = df.x.min()\n",
    "    min_y = df.y.min()\n",
    "    max_x = df.x.max()\n",
    "    max_y = df.y.max()\n",
    "\n",
    "    # Returns a new 2-D array of int, filled with zeros\n",
    "    matrix = np.zeros(_get_dimensions(max_x, min_x, max_y, min_y), dtype=int)\n",
    "    for node in visited:\n",
    "        x = max_x - node[\"x\"]\n",
    "        y = max_y - node[\"y\"]\n",
    "        # Fills matrix position with\n",
    "        # the color_code converted\n",
    "        matrix[x, y] = colors_code[node[\"val\"]]\n",
    "\n",
    "    # Create subplot ad customize it\n",
    "    fig, ax = _dark_subplots()\n",
    "    fig.suptitle(title, fontsize=15)\n",
    "    ax.matshow(matrix, cmap=cmap)\n",
    "    plt.xticks(_get_range(max_y, min_y), _get_range(max_y, min_y, True))\n",
    "    plt.yticks(_get_range(max_x, min_x), _get_range(max_x, min_x, True))\n",
    "\n",
    "    plt.show()"
   ]
  },
  {
   "cell_type": "markdown",
   "metadata": {},
   "source": [
    "# <font color='#428bca'>Advanced Quests</font>\n",
    "### 6. Prova a esplorare un labirinto con un seed diverso\n",
    "Semplicemente per risolvere questa Quest è stato creato un file contenente una nuova 'chiave':<br>\n",
    "`1594709668559390700`<br>\n",
    "In fase di test è stato sostituito il contenuto del file **seed.maze**, per la memorizzazione è stato successivamente rinominato in **seed1.maze**"
   ]
  },
  {
   "cell_type": "markdown",
   "metadata": {},
   "source": [
    "### 7. Confronta la distribuzione dell'istogramma con il labirinto precedente <a name='quest_seven' />\n",
    "Come visto in precedenza nella <a href=#quest_four>Quest4</a>, la funzione `plt_xy_dist(xy_freq, old_xy_freq)` ci permette di tracciare graficamente la distribuzione della frequenza di colore per X ed Y.<br>\n",
    "Ogni volta che finisce l'esplorazione di un labirinto viene richiamata la seguente funzione, disponibile in **functions.py**, che svolge le seguenti operazioni:\n",
    " * carica il file `previous_maze.pickle` se presente\n",
    " * confronta la vecchia distribuzione con la nuova\n",
    "     * se sono uguali non viene aggiornato il file\n",
    "     * se non sono uguali procedo scaricando la nuova distribuzione su file"
   ]
  },
  {
   "cell_type": "code",
   "execution_count": null,
   "metadata": {},
   "outputs": [],
   "source": [
    "def get_pickle_obj(colors_xy: dict) -> dict:\n",
    "    '''\n",
    "    Check the old pickle file and compare it\n",
    "    to the current color distribution.\n",
    "    '''\n",
    "    old_data = {}\n",
    "    name_file = 'previous_maze.pickle'\n",
    "\n",
    "    try:\n",
    "        with gzip.open(name_file, 'rb') as handle:\n",
    "            old_data = pickle.load(handle)\n",
    "    except FileNotFoundError:\n",
    "        pass\n",
    "    if old_data == colors_xy:\n",
    "        old_data = {}\n",
    "        print(\"Color frequency distribution not saved, same as the previous one...\")\n",
    "    else:\n",
    "        print(\"Save XY color frequency distribution to pickle file...\")\n",
    "        with gzip.open(name_file, 'wb') as handle:\n",
    "            pickle.dump(colors_xy, handle, protocol=pickle.HIGHEST_PROTOCOL)\n",
    "\n",
    "    return old_data"
   ]
  },
  {
   "cell_type": "markdown",
   "metadata": {},
   "source": [
    "Se la lunghezza del dizionaro *old_xy_freq* in `plt_xy_dist()` è maggiore di 0, si procede con la preparazione dei vecchi dati da confrontare, altrimenti verrà visualizzata la distribuzione attuale con in basso due riquadri vuoti, ad indicare che non sono presenti cambiamenti."
   ]
  },
  {
   "cell_type": "markdown",
   "metadata": {},
   "source": [
    "### 8. Crea un client che consente lo spostamento nel labirinto con le frecce direzionali\n",
    "Dato che l'*Engine* supporta nativamente l'utilizzo delle frecce direzionali si è deciso di organizzare i tasti nel seguente modo:\n",
    " * **WASD** per il movimento\n",
    " * **F** per l'ispezione\n",
    " * **E** per uscire\n",
    "\n",
    "In una prima implementazione, per catturare i tasti premuti, era stato utilizzata la funzione `getch()` del pacchetto **msvcrt**, vista la compatibilità con i soli sistemi *Windows* si è deciso di utilizzare l'oggetto **Listener** dal pacchetto **pynput.keyboard** che dovrebbe essere indipendente dal *SO* (non ho avuto modo di provare)."
   ]
  },
  {
   "cell_type": "code",
   "execution_count": null,
   "metadata": {},
   "outputs": [],
   "source": [
    "class Controller:\n",
    "    '''\n",
    "    Class that contains methods to use client controller.\n",
    "    '''\n",
    "    def __init__(self, debug):\n",
    "        '''\n",
    "        Initialize flag for prints debug information,\n",
    "        creates act_map for key-action association.\n",
    "        '''\n",
    "        self.debug = debug\n",
    "        self.act_map = {\n",
    "            'w': command.MOVE_UP,\n",
    "            'a': command.MOVE_LEFT,\n",
    "            's': command.MOVE_DOWN,\n",
    "            'd': command.MOVE_RIGHT,\n",
    "            'f': command.GET_STATE,\n",
    "            'e': command.EXIT\n",
    "        }\n",
    "\n",
    "    def explore_maze(self):\n",
    "        '''\n",
    "        Listen for keys pressed.\n",
    "        '''\n",
    "        with Listener(on_press=self._on_press) as listener:\n",
    "            listener.join()\n",
    "\n",
    "    def _on_press(self, key):\n",
    "        '''\n",
    "        Sends the action to do based on key pressed.\n",
    "        '''\n",
    "        try:\n",
    "            # Check if key correspond to an action\n",
    "            if key.char in self.act_map.keys():\n",
    "                action = self.act_map[key.char]\n",
    "                if self.debug:\n",
    "                    print(action)\n",
    "                if key.char == 'e':\n",
    "                    return False\n",
    "                tmp = get_response(action)\n",
    "                if key.char == 'f':\n",
    "                    pprint(to_dict(tmp))\n",
    "        except AttributeError:\n",
    "            # Cleans terminal after an illegal key\n",
    "            self._flush_input()\n",
    "\n",
    "    def _flush_input(self):\n",
    "        '''\n",
    "        Flush the keyboard input buffer.\n",
    "        '''\n",
    "        try:\n",
    "            # Windows\n",
    "            import msvcrt\n",
    "            while msvcrt.kbhit():\n",
    "                msvcrt.getch()\n",
    "        except ImportError:\n",
    "            # Linux, MacOS\n",
    "            import sys\n",
    "            import termios\n",
    "            termios.tcflush(sys.stdin, termios.TCIOFLUSH)\n"
   ]
  }
 ],
 "metadata": {
  "kernelspec": {
   "display_name": "Python 3",
   "language": "python",
   "name": "python3"
  },
  "language_info": {
   "codemirror_mode": {
    "name": "ipython",
    "version": 3
   },
   "file_extension": ".py",
   "mimetype": "text/x-python",
   "name": "python",
   "nbconvert_exporter": "python",
   "pygments_lexer": "ipython3",
   "version": "3.8.1"
  }
 },
 "nbformat": 4,
 "nbformat_minor": 4
}
